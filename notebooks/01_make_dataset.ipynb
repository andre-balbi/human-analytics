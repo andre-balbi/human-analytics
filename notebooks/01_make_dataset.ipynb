{
 "cells": [
  {
   "cell_type": "code",
   "execution_count": 1,
   "metadata": {},
   "outputs": [],
   "source": [
    "import datetime\n",
    "import glob\n",
    "import math\n",
    "\n",
    "import pandas as pd\n",
    "import pymysql\n",
    "from sqlalchemy import text\n",
    "from sqlalchemy.engine import create_engine"
   ]
  },
  {
   "cell_type": "markdown",
   "metadata": {},
   "source": [
    "\n",
    "\n",
    "# Processamento dos dados para a criação do dataset\n",
    "\n",
    "Neste notebook , exploraremos um pipeline de processamento de dados que extrai, transforma e cria recursos esclarecedores a partir de dados relacionados a funcionários de uma empresa fictícia. O pipeline utiliza bibliotecas Python como Pandas e SQLAlchemy para lidar com dados de várias fontes. Nosso objetivo é demonstrar o processo de obtenção de insights significativos a partir de dados de funcionários, auxiliando na tomada de decisões e em uma compreensão mais profunda da dinâmica do contexto do problema de negócio.\n",
    "\n",
    "## Principais Etapas no Pipeline:\n",
    "\n",
    "### Extração de Dados do Banco de Dados:\n",
    "O pipeline inicia conectando-se a um banco de dados MySQL, de onde extrai informações relacionadas a funcionários da empresa fictícia. Utilizando o SQLAlchemy, estabelece uma conexão e busca dados das tabelas \"employees\", \"accident\" e \"salaries\".\n",
    "\n",
    "### Criação de Recursos (features):\n",
    "O pipeline prossegue para criar diversos recursos com base nos dados adquiridos:\n",
    "\n",
    "- **Dados de Avaliação de Desempenho:**\n",
    "  Iimporta dados de avaliação de desempenho de um arquivo JSON, capturando métricas relacionadas ao desempenho dos funcionários.\n",
    "  \n",
    "- **Número de Projetos por Funcionário:**\n",
    "  Através de uma consulta SQL, calcula-se o número de projetos com os quais cada funcionário da empresa fictícia esteve associado, gerando insights sobre o engajamento dos funcionários.\n",
    "  \n",
    "- **Média de Horas de Trabalho nos Últimos 3 Meses:**\n",
    "  Combina dados de horas de trabalho de vários arquivos Excel para calcular a média de horas trabalhadas por cada funcionário nos últimos três meses.\n",
    "  \n",
    "- **Tempo na Empresa:**\n",
    "  Comparando as datas de contratação dos funcionários com uma data de referência, o pipeline calcula a duração de cada funcionário na empresa fictícia.\n",
    "  \n",
    "- **Incidência de Acidentes de Trabalho:**\n",
    "   Identifica funcionários que sofreram acidentes de trabalho, criando um recurso binário que indica a ocorrência ou não de acidentes.\n",
    "  \n",
    "- **Departamento, Salário e Status de Emprego:**\n",
    "  Dados das tabelas \"employees\" e \"salaries\" são combinados para gerar um único dataset sobre departamentos, salários e status de emprego dos funcionários.\n",
    "  \n",
    "**Nota:** Todos os códigos usados neste notebook serão incorporados como tarefas em DAGs (Directed Acyclic Graphs) no Apache Airflow. Os arquivos das respectivas DAGs serão indicados ao longo deste notebook, permitindo uma visualização completa da implementação prática.\n",
    "\n",
    "***\n",
    "\n",
    "# Data Processing for Dataset Creation\n",
    "\n",
    "In this notebook, we will explore a data processing pipeline that extracts, transforms, and creates informative features from data related to employees of a fictional company. The pipeline uses Python libraries such as Pandas and SQLAlchemy to handle data from various sources. Our goal is to demonstrate the process of gaining meaningful insights from employee data, aiding in decision-making, and providing a deeper understanding of the business problem's context.\n",
    "\n",
    "## Key Steps in the Pipeline:\n",
    "\n",
    "### Data Extraction from the Database:\n",
    "The pipeline begins by connecting to a MySQL database, from which it extracts employee-related information of the fictional company. Using SQLAlchemy, it establishes a connection and retrieves data from the \"employees,\" \"accident,\" and \"salaries\" tables.\n",
    "\n",
    "### Feature Creation:\n",
    "The pipeline proceeds to create several features based on the acquired data:\n",
    "\n",
    "- **Performance Evaluation Data:**\n",
    "  Imports performance evaluation data from a JSON file, capturing metrics related to employee performance.\n",
    "\n",
    "- **Number of Projects per Employee:**\n",
    "  Through an SQL query, the number of projects each employee of the fictional company has been associated with is calculated, providing insights into employee engagement.\n",
    "\n",
    "- **Average Working Hours in the Last 3 Months:**\n",
    "  Combines working hours data from various Excel files to calculate the average hours worked per employee in the last three months.\n",
    "\n",
    "- **Tenure at the Company:**\n",
    "  By comparing employees' hiring dates with a reference date, the pipeline calculates the duration of each employee's tenure at the fictional company.\n",
    "\n",
    "- **Workplace Accident Incidence:**\n",
    "  Identifies employees who have experienced workplace accidents, creating a binary feature indicating the occurrence or absence of accidents.\n",
    "\n",
    "- **Department, Salary, and Employment Status:**\n",
    "  Data from the \"employees\" and \"salaries\" tables are combined to generate a unified dataset regarding departments, salaries, and employment status of the employees.\n",
    "\n",
    "  **Note:** All the codes used in this notebook will be incorporated as tasks in Directed Acyclic Graphs (DAGs) within the Apache Airflow framework. The files of the respective DAGs will be referenced throughout this notebook, allowing for a comprehensive view of the practical implementation.\n"
   ]
  },
  {
   "cell_type": "code",
   "execution_count": 2,
   "metadata": {},
   "outputs": [],
   "source": [
    "#**Note:** Initially I will not connect directly to the minIO\n",
    "# This is just a test to verify if the connection and inspect the files\n",
    "\n",
    "# --------------------------------------------------------------\n",
    "# Connecting with the database (in loco)\n",
    "# --------------------------------------------------------------\n",
    "\n",
    "mysql_server = \"127.0.0.1\"  # IP address of the database server\n",
    "mysql_login = \"root\"  # Login name of the database server\n",
    "mysql_password = \"0000\"  # Password of the database server\n",
    "mysql_name = \"employees\"  # Name of the database\n",
    "\n",
    "engine = create_engine(\n",
    "    f\"mysql+pymysql://{mysql_login}:{mysql_password}@{mysql_server}:3307/{mysql_name}\"\n",
    ")\n"
   ]
  },
  {
   "cell_type": "code",
   "execution_count": 4,
   "metadata": {},
   "outputs": [
    {
     "data": {
      "text/html": [
       "<div>\n",
       "<style scoped>\n",
       "    .dataframe tbody tr th:only-of-type {\n",
       "        vertical-align: middle;\n",
       "    }\n",
       "\n",
       "    .dataframe tbody tr th {\n",
       "        vertical-align: top;\n",
       "    }\n",
       "\n",
       "    .dataframe thead th {\n",
       "        text-align: right;\n",
       "    }\n",
       "</style>\n",
       "<table border=\"1\" class=\"dataframe\">\n",
       "  <thead>\n",
       "    <tr style=\"text-align: right;\">\n",
       "      <th></th>\n",
       "      <th>emp_id</th>\n",
       "      <th>satisfaction_level</th>\n",
       "      <th>last_evaluation</th>\n",
       "    </tr>\n",
       "  </thead>\n",
       "  <tbody>\n",
       "    <tr>\n",
       "      <th>0</th>\n",
       "      <td>10001</td>\n",
       "      <td>38</td>\n",
       "      <td>53</td>\n",
       "    </tr>\n",
       "    <tr>\n",
       "      <th>1</th>\n",
       "      <td>10002</td>\n",
       "      <td>80</td>\n",
       "      <td>86</td>\n",
       "    </tr>\n",
       "    <tr>\n",
       "      <th>2</th>\n",
       "      <td>10003</td>\n",
       "      <td>11</td>\n",
       "      <td>88</td>\n",
       "    </tr>\n",
       "    <tr>\n",
       "      <th>3</th>\n",
       "      <td>10004</td>\n",
       "      <td>72</td>\n",
       "      <td>87</td>\n",
       "    </tr>\n",
       "    <tr>\n",
       "      <th>4</th>\n",
       "      <td>10005</td>\n",
       "      <td>37</td>\n",
       "      <td>52</td>\n",
       "    </tr>\n",
       "  </tbody>\n",
       "</table>\n",
       "</div>"
      ],
      "text/plain": [
       "   emp_id  satisfaction_level  last_evaluation\n",
       "0   10001                  38               53\n",
       "1   10002                  80               86\n",
       "2   10003                  11               88\n",
       "3   10004                  72               87\n",
       "4   10005                  37               52"
      ]
     },
     "execution_count": 4,
     "metadata": {},
     "output_type": "execute_result"
    }
   ],
   "source": [
    "# --------------------------------------------------------------\n",
    "# Creating the features: satisfaction_level e last_evaluation\n",
    "# --------------------------------------------------------------\n",
    "\n",
    "df_performance_evaluation = pd.read_json(\n",
    "    \"../datalake/landing/performance-evaluation/employee_performance_evaluation.json\",\n",
    "    orient=\"records\",\n",
    "    lines=True,\n",
    ")\n",
    "\n",
    "df_performance_evaluation.head()"
   ]
  },
  {
   "cell_type": "markdown",
   "metadata": {},
   "source": [
    "Related to the following DAG: [etl_satisfaction_evaluation_att.py](../airflow/dags/etl_satisfaction_evaluation_att.py)"
   ]
  },
  {
   "cell_type": "code",
   "execution_count": 6,
   "metadata": {},
   "outputs": [
    {
     "data": {
      "text/html": [
       "<div>\n",
       "<style scoped>\n",
       "    .dataframe tbody tr th:only-of-type {\n",
       "        vertical-align: middle;\n",
       "    }\n",
       "\n",
       "    .dataframe tbody tr th {\n",
       "        vertical-align: top;\n",
       "    }\n",
       "\n",
       "    .dataframe thead th {\n",
       "        text-align: right;\n",
       "    }\n",
       "</style>\n",
       "<table border=\"1\" class=\"dataframe\">\n",
       "  <thead>\n",
       "    <tr style=\"text-align: right;\">\n",
       "      <th></th>\n",
       "      <th>emp_id</th>\n",
       "      <th>number_projects</th>\n",
       "    </tr>\n",
       "  </thead>\n",
       "  <tbody>\n",
       "    <tr>\n",
       "      <th>0</th>\n",
       "      <td>10001</td>\n",
       "      <td>2</td>\n",
       "    </tr>\n",
       "    <tr>\n",
       "      <th>1</th>\n",
       "      <td>10002</td>\n",
       "      <td>5</td>\n",
       "    </tr>\n",
       "    <tr>\n",
       "      <th>2</th>\n",
       "      <td>10003</td>\n",
       "      <td>7</td>\n",
       "    </tr>\n",
       "    <tr>\n",
       "      <th>3</th>\n",
       "      <td>10004</td>\n",
       "      <td>5</td>\n",
       "    </tr>\n",
       "    <tr>\n",
       "      <th>4</th>\n",
       "      <td>10005</td>\n",
       "      <td>2</td>\n",
       "    </tr>\n",
       "  </tbody>\n",
       "</table>\n",
       "</div>"
      ],
      "text/plain": [
       "   emp_id  number_projects\n",
       "0   10001                2\n",
       "1   10002                5\n",
       "2   10003                7\n",
       "3   10004                5\n",
       "4   10005                2"
      ]
     },
     "execution_count": 6,
     "metadata": {},
     "output_type": "execute_result"
    }
   ],
   "source": [
    "# --------------------------------------------------------------\n",
    "# Defining query to return the number of projects per employee\n",
    "# --------------------------------------------------------------\n",
    "\n",
    "# This SQL query above calculates the number of projects for each employee (emp_id)\n",
    "# in the \"projects_emp\" table.\n",
    "# It counts the occurrences of each unique emp_id and presents the result as\n",
    "# \"number_projects\".\n",
    "\n",
    "query = \"\"\"SELECT emp_id, Count(PROJECT_ID) as number_projects\n",
    "FROM projects_emp\n",
    "GROUP BY (emp_id);\"\"\"\n",
    "\n",
    "df_number_projects = pd.read_sql_query(query, engine)\n",
    "\n",
    "df_number_projects.head()"
   ]
  },
  {
   "cell_type": "markdown",
   "metadata": {},
   "source": [
    "Related to the following DAG: [etl_number_projects_att.py](../airflow/dags/etl_number_projects_att.py)"
   ]
  },
  {
   "cell_type": "code",
   "execution_count": 9,
   "metadata": {},
   "outputs": [
    {
     "name": "stdout",
     "output_type": "stream",
     "text": [
      "../datalake/landing/working-hours\\employee_date_hour_0.xlsx\n",
      "../datalake/landing/working-hours\\employee_date_hour_1.xlsx\n",
      "../datalake/landing/working-hours\\employee_date_hour_2.xlsx\n",
      "../datalake/landing/working-hours\\employee_date_hour_3.xlsx\n",
      "../datalake/landing/working-hours\\employee_date_hour_4.xlsx\n",
      "../datalake/landing/working-hours\\employee_date_hour_5.xlsx\n",
      "<class 'pandas.core.frame.DataFrame'>\n",
      "Int64Index: 3225000 entries, 0 to 537499\n",
      "Data columns (total 3 columns):\n",
      " #   Column  Dtype         \n",
      "---  ------  -----         \n",
      " 0   emp_id  object        \n",
      " 1   data    datetime64[ns]\n",
      " 2   hora    int64         \n",
      "dtypes: datetime64[ns](1), int64(1), object(1)\n",
      "memory usage: 98.4+ MB\n"
     ]
    }
   ],
   "source": [
    "# --------------------------------------------------------------\n",
    "# Creating the feature: mean_work_last_3_months\n",
    "# --------------------------------------------------------------\n",
    "\n",
    "# Average hours worked by each employee in the last 3 mese\n",
    "df_sistema_ponto = pd.DataFrame(data=None, columns=[\"emp_id\", \"data\", \"hora\"])  # empty\n",
    "\n",
    "# Read the .xlsx spreadsheet data\n",
    "for sheet in glob.glob(\"../datalake/landing/working-hours/*.xlsx\"):\n",
    "    print(sheet)\n",
    "    df_ = pd.read_excel(sheet)\n",
    "    df_sistema_ponto = pd.concat([df_sistema_ponto, df_])\n",
    "\n",
    "\n",
    "# Converting the attribute to the Datetime\n",
    "df_sistema_ponto[\"hora\"] = pd.to_numeric(df_sistema_ponto[\"hora\"])\n",
    "df_sistema_ponto.info()"
   ]
  },
  {
   "cell_type": "code",
   "execution_count": 13,
   "metadata": {},
   "outputs": [
    {
     "data": {
      "text/html": [
       "<div>\n",
       "<style scoped>\n",
       "    .dataframe tbody tr th:only-of-type {\n",
       "        vertical-align: middle;\n",
       "    }\n",
       "\n",
       "    .dataframe tbody tr th {\n",
       "        vertical-align: top;\n",
       "    }\n",
       "\n",
       "    .dataframe thead th {\n",
       "        text-align: right;\n",
       "    }\n",
       "</style>\n",
       "<table border=\"1\" class=\"dataframe\">\n",
       "  <thead>\n",
       "    <tr style=\"text-align: right;\">\n",
       "      <th></th>\n",
       "      <th>emp_id</th>\n",
       "      <th>data</th>\n",
       "      <th>hora</th>\n",
       "    </tr>\n",
       "  </thead>\n",
       "  <tbody>\n",
       "    <tr>\n",
       "      <th>537495</th>\n",
       "      <td>15000</td>\n",
       "      <td>2020-12-27</td>\n",
       "      <td>12</td>\n",
       "    </tr>\n",
       "    <tr>\n",
       "      <th>537496</th>\n",
       "      <td>15000</td>\n",
       "      <td>2020-12-28</td>\n",
       "      <td>5</td>\n",
       "    </tr>\n",
       "    <tr>\n",
       "      <th>537497</th>\n",
       "      <td>15000</td>\n",
       "      <td>2020-12-29</td>\n",
       "      <td>11</td>\n",
       "    </tr>\n",
       "    <tr>\n",
       "      <th>537498</th>\n",
       "      <td>15000</td>\n",
       "      <td>2020-12-30</td>\n",
       "      <td>14</td>\n",
       "    </tr>\n",
       "    <tr>\n",
       "      <th>537499</th>\n",
       "      <td>15000</td>\n",
       "      <td>2020-12-31</td>\n",
       "      <td>11</td>\n",
       "    </tr>\n",
       "  </tbody>\n",
       "</table>\n",
       "</div>"
      ],
      "text/plain": [
       "       emp_id       data  hora\n",
       "537495  15000 2020-12-27    12\n",
       "537496  15000 2020-12-28     5\n",
       "537497  15000 2020-12-29    11\n",
       "537498  15000 2020-12-30    14\n",
       "537499  15000 2020-12-31    11"
      ]
     },
     "execution_count": 13,
     "metadata": {},
     "output_type": "execute_result"
    }
   ],
   "source": [
    "# Filtering only records of the last 3 months\n",
    "df_last_3_month = df_sistema_ponto[\n",
    "    (df_sistema_ponto[\"data\"] > datetime.datetime(2020, 9, 30))\n",
    "]\n",
    "df_sistema_ponto.tail()"
   ]
  },
  {
   "cell_type": "code",
   "execution_count": 14,
   "metadata": {},
   "outputs": [
    {
     "data": {
      "text/html": [
       "<div>\n",
       "<style scoped>\n",
       "    .dataframe tbody tr th:only-of-type {\n",
       "        vertical-align: middle;\n",
       "    }\n",
       "\n",
       "    .dataframe tbody tr th {\n",
       "        vertical-align: top;\n",
       "    }\n",
       "\n",
       "    .dataframe thead th {\n",
       "        text-align: right;\n",
       "    }\n",
       "</style>\n",
       "<table border=\"1\" class=\"dataframe\">\n",
       "  <thead>\n",
       "    <tr style=\"text-align: right;\">\n",
       "      <th></th>\n",
       "      <th>data</th>\n",
       "      <th>hora</th>\n",
       "    </tr>\n",
       "    <tr>\n",
       "      <th>emp_id</th>\n",
       "      <th></th>\n",
       "      <th></th>\n",
       "    </tr>\n",
       "  </thead>\n",
       "  <tbody>\n",
       "    <tr>\n",
       "      <th>10001</th>\n",
       "      <td>92</td>\n",
       "      <td>92</td>\n",
       "    </tr>\n",
       "    <tr>\n",
       "      <th>10002</th>\n",
       "      <td>92</td>\n",
       "      <td>92</td>\n",
       "    </tr>\n",
       "    <tr>\n",
       "      <th>10003</th>\n",
       "      <td>92</td>\n",
       "      <td>92</td>\n",
       "    </tr>\n",
       "    <tr>\n",
       "      <th>10004</th>\n",
       "      <td>92</td>\n",
       "      <td>92</td>\n",
       "    </tr>\n",
       "    <tr>\n",
       "      <th>10005</th>\n",
       "      <td>92</td>\n",
       "      <td>92</td>\n",
       "    </tr>\n",
       "    <tr>\n",
       "      <th>...</th>\n",
       "      <td>...</td>\n",
       "      <td>...</td>\n",
       "    </tr>\n",
       "    <tr>\n",
       "      <th>24996</th>\n",
       "      <td>92</td>\n",
       "      <td>92</td>\n",
       "    </tr>\n",
       "    <tr>\n",
       "      <th>24997</th>\n",
       "      <td>92</td>\n",
       "      <td>92</td>\n",
       "    </tr>\n",
       "    <tr>\n",
       "      <th>24998</th>\n",
       "      <td>92</td>\n",
       "      <td>92</td>\n",
       "    </tr>\n",
       "    <tr>\n",
       "      <th>24999</th>\n",
       "      <td>92</td>\n",
       "      <td>92</td>\n",
       "    </tr>\n",
       "    <tr>\n",
       "      <th>25000</th>\n",
       "      <td>92</td>\n",
       "      <td>92</td>\n",
       "    </tr>\n",
       "  </tbody>\n",
       "</table>\n",
       "<p>15000 rows × 2 columns</p>\n",
       "</div>"
      ],
      "text/plain": [
       "        data  hora\n",
       "emp_id            \n",
       "10001     92    92\n",
       "10002     92    92\n",
       "10003     92    92\n",
       "10004     92    92\n",
       "10005     92    92\n",
       "...      ...   ...\n",
       "24996     92    92\n",
       "24997     92    92\n",
       "24998     92    92\n",
       "24999     92    92\n",
       "25000     92    92\n",
       "\n",
       "[15000 rows x 2 columns]"
      ]
     },
     "execution_count": 14,
     "metadata": {},
     "output_type": "execute_result"
    }
   ],
   "source": [
    "# Checking the counting of records per employee\n",
    "df_last_3_month.groupby(\"emp_id\").count()"
   ]
  },
  {
   "cell_type": "code",
   "execution_count": 15,
   "metadata": {},
   "outputs": [
    {
     "data": {
      "text/plain": [
       "emp_id\n",
       "10001    266.000000\n",
       "10002    252.000000\n",
       "10003    289.666667\n",
       "10004    275.666667\n",
       "10005    292.333333\n",
       "Name: hora, dtype: float64"
      ]
     },
     "execution_count": 15,
     "metadata": {},
     "output_type": "execute_result"
    }
   ],
   "source": [
    "# Finally, calculating the average value of the amount of hours in the last 3 months.\n",
    "mean_work_last_3_months = df_last_3_month.groupby(\"emp_id\")[\"hora\"].agg(\"sum\") / 3\n",
    "mean_work_last_3_months.head()"
   ]
  },
  {
   "cell_type": "markdown",
   "metadata": {},
   "source": [
    "Related to the following DAG: [etl_mean_work_last_3_months_att.py](../airflow/dags/etl_mean_work_last_3_months_att.py)"
   ]
  },
  {
   "cell_type": "code",
   "execution_count": 16,
   "metadata": {},
   "outputs": [
    {
     "data": {
      "text/html": [
       "<div>\n",
       "<style scoped>\n",
       "    .dataframe tbody tr th:only-of-type {\n",
       "        vertical-align: middle;\n",
       "    }\n",
       "\n",
       "    .dataframe tbody tr th {\n",
       "        vertical-align: top;\n",
       "    }\n",
       "\n",
       "    .dataframe thead th {\n",
       "        text-align: right;\n",
       "    }\n",
       "</style>\n",
       "<table border=\"1\" class=\"dataframe\">\n",
       "  <thead>\n",
       "    <tr style=\"text-align: right;\">\n",
       "      <th></th>\n",
       "      <th>hire_date</th>\n",
       "    </tr>\n",
       "  </thead>\n",
       "  <tbody>\n",
       "    <tr>\n",
       "      <th>0</th>\n",
       "      <td>2018-01-17</td>\n",
       "    </tr>\n",
       "    <tr>\n",
       "      <th>1</th>\n",
       "      <td>2015-02-02</td>\n",
       "    </tr>\n",
       "    <tr>\n",
       "      <th>2</th>\n",
       "      <td>2017-01-22</td>\n",
       "    </tr>\n",
       "    <tr>\n",
       "      <th>3</th>\n",
       "      <td>2016-01-28</td>\n",
       "    </tr>\n",
       "    <tr>\n",
       "      <th>4</th>\n",
       "      <td>2018-01-17</td>\n",
       "    </tr>\n",
       "  </tbody>\n",
       "</table>\n",
       "</div>"
      ],
      "text/plain": [
       "    hire_date\n",
       "0  2018-01-17\n",
       "1  2015-02-02\n",
       "2  2017-01-22\n",
       "3  2016-01-28\n",
       "4  2018-01-17"
      ]
     },
     "execution_count": 16,
     "metadata": {},
     "output_type": "execute_result"
    }
   ],
   "source": [
    "# --------------------------------------------------------------\n",
    "# Creating the feature: time_in_company\n",
    "# --------------------------------------------------------------\n",
    "\n",
    "# Calculating the time each employee is in the company\n",
    "\n",
    "# Defining a reference date\n",
    "date_referencia = datetime.date(2021, 1, 1)\n",
    "\n",
    "# Defining a query to return data from the \"employees\" table\n",
    "query = \"\"\"SELECT hire_date\n",
    "FROM employees;\"\"\"\n",
    "\n",
    "df_hire_date = pd.read_sql_query(query, engine)\n",
    "df_hire_date.head()"
   ]
  },
  {
   "cell_type": "code",
   "execution_count": 17,
   "metadata": {},
   "outputs": [
    {
     "name": "stdout",
     "output_type": "stream",
     "text": [
      "<class 'pandas.core.frame.DataFrame'>\n",
      "RangeIndex: 14999 entries, 0 to 14998\n",
      "Data columns (total 1 columns):\n",
      " #   Column     Non-Null Count  Dtype         \n",
      "---  ------     --------------  -----         \n",
      " 0   hire_date  14999 non-null  datetime64[ns]\n",
      "dtypes: datetime64[ns](1)\n",
      "memory usage: 117.3 KB\n"
     ]
    }
   ],
   "source": [
    "# Converting the type of data to Datetime.\n",
    "df_hire_date[\"hire_date\"] = pd.to_datetime(df_hire_date[\"hire_date\"])\n",
    "df_hire_date.info()"
   ]
  },
  {
   "cell_type": "code",
   "execution_count": 18,
   "metadata": {},
   "outputs": [
    {
     "data": {
      "text/plain": [
       "[1080, 2160, 1440, 1800, 1080, 1080, 1440, 1800, 1800, 1080]"
      ]
     },
     "execution_count": 18,
     "metadata": {},
     "output_type": "execute_result"
    }
   ],
   "source": [
    "# Calculating the difference in days from the employee's hiring date to the reference date\n",
    "days_diff = []\n",
    "for d in df_hire_date[\"hire_date\"]:  # Looping thrrough the employee's hiring date\n",
    "    diff = date_referencia - d.date()  # Reference date - employee's hiring date\n",
    "    days_diff.append(diff.days)\n",
    "\n",
    "days_diff[:10]"
   ]
  },
  {
   "cell_type": "code",
   "execution_count": 19,
   "metadata": {},
   "outputs": [
    {
     "data": {
      "text/plain": [
       "[3, 6, 4, 5, 3, 3, 4, 5, 5, 3, 3, 4, 5, 3, 3, 3, 3, 6, 3, 5]"
      ]
     },
     "execution_count": 19,
     "metadata": {},
     "output_type": "execute_result"
    }
   ],
   "source": [
    "# Number of days in number of years\n",
    "nyears = []\n",
    "for ndays in days_diff:\n",
    "    nyears.append(int(math.ceil(ndays / 365)))\n",
    "\n",
    "nyears[:20]"
   ]
  },
  {
   "cell_type": "code",
   "execution_count": 20,
   "metadata": {},
   "outputs": [
    {
     "data": {
      "text/html": [
       "<div>\n",
       "<style scoped>\n",
       "    .dataframe tbody tr th:only-of-type {\n",
       "        vertical-align: middle;\n",
       "    }\n",
       "\n",
       "    .dataframe tbody tr th {\n",
       "        vertical-align: top;\n",
       "    }\n",
       "\n",
       "    .dataframe thead th {\n",
       "        text-align: right;\n",
       "    }\n",
       "</style>\n",
       "<table border=\"1\" class=\"dataframe\">\n",
       "  <thead>\n",
       "    <tr style=\"text-align: right;\">\n",
       "      <th></th>\n",
       "      <th>hire_date</th>\n",
       "      <th>time_in_company</th>\n",
       "    </tr>\n",
       "  </thead>\n",
       "  <tbody>\n",
       "    <tr>\n",
       "      <th>0</th>\n",
       "      <td>2018-01-17</td>\n",
       "      <td>3</td>\n",
       "    </tr>\n",
       "    <tr>\n",
       "      <th>1</th>\n",
       "      <td>2015-02-02</td>\n",
       "      <td>6</td>\n",
       "    </tr>\n",
       "    <tr>\n",
       "      <th>2</th>\n",
       "      <td>2017-01-22</td>\n",
       "      <td>4</td>\n",
       "    </tr>\n",
       "    <tr>\n",
       "      <th>3</th>\n",
       "      <td>2016-01-28</td>\n",
       "      <td>5</td>\n",
       "    </tr>\n",
       "    <tr>\n",
       "      <th>4</th>\n",
       "      <td>2018-01-17</td>\n",
       "      <td>3</td>\n",
       "    </tr>\n",
       "  </tbody>\n",
       "</table>\n",
       "</div>"
      ],
      "text/plain": [
       "   hire_date  time_in_company\n",
       "0 2018-01-17                3\n",
       "1 2015-02-02                6\n",
       "2 2017-01-22                4\n",
       "3 2016-01-28                5\n",
       "4 2018-01-17                3"
      ]
     },
     "execution_count": 20,
     "metadata": {},
     "output_type": "execute_result"
    }
   ],
   "source": [
    "# Adding the new column to the dataframe\n",
    "df_hire_date[\"time_in_company\"] = nyears\n",
    "df_hire_date.head()"
   ]
  },
  {
   "cell_type": "markdown",
   "metadata": {},
   "source": [
    "Related to the following DAG: [etl_time_in_company_att.py](../airflow/dags/etl_time_in_company_att.py)"
   ]
  },
  {
   "cell_type": "code",
   "execution_count": 22,
   "metadata": {},
   "outputs": [
    {
     "name": "stdout",
     "output_type": "stream",
     "text": [
      "   emp_no birth_date first_name last_name gender department  left   hire_date\n",
      "0   10001 1953-09-02     Georgi   Facello      M      sales     1  2018-01-17\n",
      "1   10002 1964-06-02    Bezalel    Simmel      F      sales     1  2015-02-02\n",
      "   emp_no                                  Event Description  \\\n",
      "0   10019  EMPLOYEE IS ELECTROCUTED, FALLS FROM A LADDER,...   \n",
      "1   10069  EMPLOYEE FALLS THROUGH HOLE IN ROOF AND IS KILLED   \n",
      "\n",
      "                        Event Keywords                       Human Factor  \n",
      "0  RIB,ELECTRICAL,FRACTURE,LADDER,FALL                              Other  \n",
      "1       SLIP,FALL PROTECTION,ROOF,FALL  Safety Devices Removed/Inoperable  \n"
     ]
    }
   ],
   "source": [
    "# --------------------------------------------------------------\n",
    "# Creating the feature: work_accident (binary)\n",
    "# --------------------------------------------------------------\n",
    "\n",
    "# Loading the data from the database\n",
    "df_employees = pd.read_sql_table(\"employees\", engine)\n",
    "df_accident = pd.read_sql_table(\"accident\", engine)\n",
    "\n",
    "print(df_employees.head(2))\n",
    "print(df_accident.head(2))"
   ]
  },
  {
   "cell_type": "code",
   "execution_count": 23,
   "metadata": {},
   "outputs": [],
   "source": [
    "# Verifying which employees had an accident (1-yes; 0-no)\n",
    "work_accident = []\n",
    "# Iterating through each emp_no in the df_employees DataFrame\n",
    "for emp in df_employees[\"emp_no\"]:\n",
    "    # Checking if the emp_no exists in the list of emp_no values from df_accident\n",
    "    if emp in df_accident[\"emp_no\"].to_list():\n",
    "        # Appending 1 to the work_accident list if there is a work accident for the emp_no\n",
    "        work_accident.append(1)\n",
    "    else:\n",
    "        # Appending 0 to the work_accident list if there is no work accident for the emp_no\n",
    "        work_accident.append(0)"
   ]
  },
  {
   "cell_type": "code",
   "execution_count": 24,
   "metadata": {},
   "outputs": [
    {
     "data": {
      "text/html": [
       "<div>\n",
       "<style scoped>\n",
       "    .dataframe tbody tr th:only-of-type {\n",
       "        vertical-align: middle;\n",
       "    }\n",
       "\n",
       "    .dataframe tbody tr th {\n",
       "        vertical-align: top;\n",
       "    }\n",
       "\n",
       "    .dataframe thead th {\n",
       "        text-align: right;\n",
       "    }\n",
       "</style>\n",
       "<table border=\"1\" class=\"dataframe\">\n",
       "  <thead>\n",
       "    <tr style=\"text-align: right;\">\n",
       "      <th></th>\n",
       "      <th>work_accident</th>\n",
       "    </tr>\n",
       "  </thead>\n",
       "  <tbody>\n",
       "    <tr>\n",
       "      <th>0</th>\n",
       "      <td>12830</td>\n",
       "    </tr>\n",
       "    <tr>\n",
       "      <th>1</th>\n",
       "      <td>2169</td>\n",
       "    </tr>\n",
       "  </tbody>\n",
       "</table>\n",
       "</div>"
      ],
      "text/plain": [
       "   work_accident\n",
       "0          12830\n",
       "1           2169"
      ]
     },
     "execution_count": 24,
     "metadata": {},
     "output_type": "execute_result"
    }
   ],
   "source": [
    "# Adding the new column to the mew dataframe\n",
    "df_work_accident = pd.DataFrame(data=None, columns=[\"work_accident\"])\n",
    "df_work_accident[\"work_accident\"] = work_accident\n",
    "df_work_accident.groupby(work_accident).count()"
   ]
  },
  {
   "cell_type": "markdown",
   "metadata": {},
   "source": [
    "Related to the following DAG: [etl_work_accident_att.py](../airflow/dags/etl_work_accident_att.py)"
   ]
  },
  {
   "cell_type": "code",
   "execution_count": 26,
   "metadata": {},
   "outputs": [
    {
     "data": {
      "text/html": [
       "<div>\n",
       "<style scoped>\n",
       "    .dataframe tbody tr th:only-of-type {\n",
       "        vertical-align: middle;\n",
       "    }\n",
       "\n",
       "    .dataframe tbody tr th {\n",
       "        vertical-align: top;\n",
       "    }\n",
       "\n",
       "    .dataframe thead th {\n",
       "        text-align: right;\n",
       "    }\n",
       "</style>\n",
       "<table border=\"1\" class=\"dataframe\">\n",
       "  <thead>\n",
       "    <tr style=\"text-align: right;\">\n",
       "      <th></th>\n",
       "      <th>department</th>\n",
       "      <th>salary</th>\n",
       "      <th>left</th>\n",
       "    </tr>\n",
       "  </thead>\n",
       "  <tbody>\n",
       "    <tr>\n",
       "      <th>0</th>\n",
       "      <td>sales</td>\n",
       "      <td>low</td>\n",
       "      <td>1</td>\n",
       "    </tr>\n",
       "    <tr>\n",
       "      <th>1</th>\n",
       "      <td>sales</td>\n",
       "      <td>medium</td>\n",
       "      <td>1</td>\n",
       "    </tr>\n",
       "    <tr>\n",
       "      <th>2</th>\n",
       "      <td>sales</td>\n",
       "      <td>medium</td>\n",
       "      <td>1</td>\n",
       "    </tr>\n",
       "    <tr>\n",
       "      <th>3</th>\n",
       "      <td>sales</td>\n",
       "      <td>low</td>\n",
       "      <td>1</td>\n",
       "    </tr>\n",
       "    <tr>\n",
       "      <th>4</th>\n",
       "      <td>sales</td>\n",
       "      <td>low</td>\n",
       "      <td>1</td>\n",
       "    </tr>\n",
       "  </tbody>\n",
       "</table>\n",
       "</div>"
      ],
      "text/plain": [
       "  department  salary  left\n",
       "0      sales     low     1\n",
       "1      sales  medium     1\n",
       "2      sales  medium     1\n",
       "3      sales     low     1\n",
       "4      sales     low     1"
      ]
     },
     "execution_count": 26,
     "metadata": {},
     "output_type": "execute_result"
    }
   ],
   "source": [
    "# --------------------------------------------------------------\n",
    "# Creating the features: departament, salary and left\n",
    "# --------------------------------------------------------------\n",
    "\n",
    "# This query combines data from two tables, \"employees\" and \"salaries\", using an\n",
    "# inner join. The result will include the \"department\" column from the \"employees\"\n",
    "# table, the \"salary\" column from the \"salaries\" table, and the \"left\" column\n",
    "# (employment status) from the \"employees\" table. The join is established by matching\n",
    "# the \"emp_no\" column from the \"employees\" table with the \"emp_id\" column from the\n",
    "# \"salaries\" table. This way, the query presents a comprehensive view of employee\n",
    "# department, salary, and employment status in a single result set.\n",
    "\n",
    "query = \"\"\"SELECT emp.department as department,sal.salary as salary, emp.left\n",
    "FROM employees emp\n",
    "INNER JOIN salaries sal\n",
    "ON emp.emp_no = sal.emp_id;\n",
    "\"\"\"\n",
    "\n",
    "df_department_salary_left = pd.read_sql_query(query, engine)\n",
    "df_department_salary_left.head()"
   ]
  },
  {
   "cell_type": "markdown",
   "metadata": {},
   "source": [
    "Related to the following DAG: [etl_department_salary_left_att.py](../airflow/dags/etl_department_salary_left_att.py)"
   ]
  },
  {
   "cell_type": "markdown",
   "metadata": {},
   "source": [
    "---"
   ]
  },
  {
   "cell_type": "markdown",
   "metadata": {},
   "source": [
    "Final DAG where combine all the previously generated dataframes into a single one): [etl_employees_dataset.py](../airflow/dags/etl_employees_dataset.py)"
   ]
  },
  {
   "cell_type": "markdown",
   "metadata": {},
   "source": [
    "**Next step:** [`02_visualize.ipynb`](02_visualize.ipynb)"
   ]
  }
 ],
 "metadata": {
  "kernelspec": {
   "display_name": "Python 3.8.15 ('human-analytics')",
   "language": "python",
   "name": "python3"
  },
  "language_info": {
   "codemirror_mode": {
    "name": "ipython",
    "version": 3
   },
   "file_extension": ".py",
   "mimetype": "text/x-python",
   "name": "python",
   "nbconvert_exporter": "python",
   "pygments_lexer": "ipython3",
   "version": "3.8.15"
  },
  "orig_nbformat": 4,
  "vscode": {
   "interpreter": {
    "hash": "83de8f23eebd31b87e7a481be08ea1b8cb5e28bf8c41b3e516a6ddf6e6fd1ef3"
   }
  }
 },
 "nbformat": 4,
 "nbformat_minor": 2
}
